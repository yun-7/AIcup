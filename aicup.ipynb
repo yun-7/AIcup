{
 "cells": [
  {
   "cell_type": "code",
   "execution_count": 1,
   "id": "865a8f7f-4150-4461-a0f5-76ea067d90bf",
   "metadata": {
    "tags": []
   },
   "outputs": [],
   "source": [
    "import pandas as pd\n",
    "df = pd.read_csv(\"./PCOS_data_without_infertility.csv\")"
   ]
  },
  {
   "cell_type": "markdown",
   "id": "eb633b8f-2f1a-4e90-9f4b-fbf6a83cb61e",
   "metadata": {},
   "source": [
    "## 把需要抽血的指數移除"
   ]
  },
  {
   "cell_type": "code",
   "execution_count": 2,
   "id": "250c43a3-9582-46ec-acbb-ea2c7bf2fad6",
   "metadata": {},
   "outputs": [],
   "source": [
    "new_df = df.drop(['Hb(g/dl)', \n",
    "                  'I   beta-HCG(mIU/mL)',\n",
    "                  'II    beta-HCG(mIU/mL)',\n",
    "                  'FSH(mIU/mL)', 'LH(mIU/mL)', \n",
    "                  'FSH/LH', \n",
    "                  'TSH (mIU/L)', \n",
    "                  'AMH(ng/mL)', \n",
    "                  'PRL(ng/mL)', \n",
    "                  'Vit D3 (ng/mL)', \n",
    "                  'RBS(mg/dl)', \n",
    "                  'Follicle No. (L)', \n",
    "                  'Follicle No. (R)', \n",
    "                  'Avg. F size (L) (mm)', \n",
    "                  'Avg. F size (R) (mm)', \n",
    "                  'Endometrium (mm)'], axis = 1)"
   ]
  },
  {
   "cell_type": "code",
   "execution_count": 3,
   "id": "f4ae609b-63f2-4971-ae79-e19d54b17fcb",
   "metadata": {
    "tags": []
   },
   "outputs": [
    {
     "name": "stdout",
     "output_type": "stream",
     "text": [
      "<class 'pandas.core.frame.DataFrame'>\n",
      "RangeIndex: 999 entries, 0 to 998\n",
      "Data columns (total 29 columns):\n",
      " #   Column                 Non-Null Count  Dtype  \n",
      "---  ------                 --------------  -----  \n",
      " 0   Sl. No                 541 non-null    float64\n",
      " 1   Patient File No.       541 non-null    float64\n",
      " 2   PCOS (Y/N)             541 non-null    float64\n",
      " 3    Age (yrs)             541 non-null    float64\n",
      " 4   Weight (Kg)            541 non-null    float64\n",
      " 5   Height(Cm)             541 non-null    float64\n",
      " 6   BMI                    541 non-null    object \n",
      " 7   Blood Group            541 non-null    float64\n",
      " 8   *Pulse rate(bpm)       541 non-null    float64\n",
      " 9   RR (breaths/min)       541 non-null    float64\n",
      " 10  Cycle(R/I)             541 non-null    float64\n",
      " 11  Cycle length(days)     541 non-null    float64\n",
      " 12  Marraige Status (Yrs)  540 non-null    float64\n",
      " 13  Pregnant(Y/N)          541 non-null    float64\n",
      " 14  No. of aborptions      541 non-null    float64\n",
      " 15  Hip(inch)              541 non-null    float64\n",
      " 16  Waist(inch)            541 non-null    float64\n",
      " 17  Waist:Hip Ratio        541 non-null    object \n",
      " 18  PRG(ng/mL)             541 non-null    float64\n",
      " 19  Weight gain(Y/N)       541 non-null    float64\n",
      " 20  hair growth(Y/N)       541 non-null    float64\n",
      " 21  Skin darkening (Y/N)   541 non-null    float64\n",
      " 22  Hair loss(Y/N)         541 non-null    float64\n",
      " 23  Pimples(Y/N)           541 non-null    float64\n",
      " 24  Fast food (Y/N)        540 non-null    float64\n",
      " 25  Reg.Exercise(Y/N)      541 non-null    float64\n",
      " 26  BP _Systolic (mmHg)    541 non-null    float64\n",
      " 27  BP _Diastolic (mmHg)   541 non-null    float64\n",
      " 28  Unnamed: 44            2 non-null      object \n",
      "dtypes: float64(26), object(3)\n",
      "memory usage: 226.5+ KB\n"
     ]
    }
   ],
   "source": [
    "new_df.info()"
   ]
  },
  {
   "cell_type": "markdown",
   "id": "54df9dd0-3d03-4c11-a8a6-ddb1f197039d",
   "metadata": {},
   "source": [
    "## 把不需要的欄位移除"
   ]
  },
  {
   "cell_type": "code",
   "execution_count": 4,
   "id": "3b62a6ac-df12-477a-9873-e8bc610f2664",
   "metadata": {
    "tags": []
   },
   "outputs": [],
   "source": [
    "new_df = new_df.drop(['BMI', 'Waist:Hip Ratio', 'Unnamed: 44', 'Sl. No', 'Patient File No.'], axis = 1)"
   ]
  },
  {
   "cell_type": "markdown",
   "id": "32c7aa47-5bc0-4f9a-b3cd-8044ed673690",
   "metadata": {},
   "source": [
    "## 移除空值"
   ]
  },
  {
   "cell_type": "code",
   "execution_count": 5,
   "id": "35c07b6d-7bba-4d4f-875b-c9f93be30ac6",
   "metadata": {
    "tags": []
   },
   "outputs": [],
   "source": [
    "new_df = new_df.dropna()"
   ]
  },
  {
   "cell_type": "code",
   "execution_count": 6,
   "id": "b19d5d7d-116d-46f8-9746-2afffbb8726a",
   "metadata": {
    "tags": []
   },
   "outputs": [
    {
     "data": {
      "text/plain": [
       "PCOS (Y/N)               0\n",
       " Age (yrs)               0\n",
       "Weight (Kg)              0\n",
       "Height(Cm)               0\n",
       "Blood Group              0\n",
       "*Pulse rate(bpm)         0\n",
       "RR (breaths/min)         0\n",
       "Cycle(R/I)               0\n",
       "Cycle length(days)       0\n",
       "Marraige Status (Yrs)    0\n",
       "Pregnant(Y/N)            0\n",
       "No. of aborptions        0\n",
       "Hip(inch)                0\n",
       "Waist(inch)              0\n",
       "PRG(ng/mL)               0\n",
       "Weight gain(Y/N)         0\n",
       "hair growth(Y/N)         0\n",
       "Skin darkening (Y/N)     0\n",
       "Hair loss(Y/N)           0\n",
       "Pimples(Y/N)             0\n",
       "Fast food (Y/N)          0\n",
       "Reg.Exercise(Y/N)        0\n",
       "BP _Systolic (mmHg)      0\n",
       "BP _Diastolic (mmHg)     0\n",
       "dtype: int64"
      ]
     },
     "execution_count": 6,
     "metadata": {},
     "output_type": "execute_result"
    }
   ],
   "source": [
    "new_df.isnull().sum()"
   ]
  },
  {
   "cell_type": "code",
   "execution_count": 7,
   "id": "1dc327af-3520-41c7-9917-64e926dafc5c",
   "metadata": {
    "tags": []
   },
   "outputs": [],
   "source": [
    "x = new_df.drop(['PCOS (Y/N)'],axis=1)\n",
    "y = new_df['PCOS (Y/N)']"
   ]
  },
  {
   "cell_type": "code",
   "execution_count": 8,
   "id": "ae5ea676-c649-4ea9-862b-d6a5e1e0dd0e",
   "metadata": {
    "tags": []
   },
   "outputs": [],
   "source": [
    "x['BMI'] = x['Weight (Kg)']/((x['Height(Cm) ']/100)**2)\n",
    "x['Waist:Hip Ratio'] = x['Waist(inch)']/x['Hip(inch)']\n",
    "x = x.drop(['Weight (Kg)', 'Height(Cm) ', 'Waist(inch)', 'Hip(inch)'], axis=1)"
   ]
  },
  {
   "cell_type": "markdown",
   "id": "e5bf2cb1-6215-49cf-b2cb-c6e4c4644614",
   "metadata": {},
   "source": [
    "## XGBOOST\n"
   ]
  },
  {
   "cell_type": "code",
   "execution_count": 9,
   "id": "97ea3e6d-f87b-4f02-9ec5-83379174288c",
   "metadata": {
    "tags": []
   },
   "outputs": [
    {
     "name": "stdout",
     "output_type": "stream",
     "text": [
      "              precision    recall  f1-score   support\n",
      "\n",
      "         0.0       0.88      0.88      0.88        80\n",
      "         1.0       0.64      0.64      0.64        28\n",
      "\n",
      "    accuracy                           0.81       108\n",
      "   macro avg       0.76      0.76      0.76       108\n",
      "weighted avg       0.81      0.81      0.81       108\n",
      "\n"
     ]
    }
   ],
   "source": [
    "from sklearn import metrics\n",
    "from sklearn.model_selection import train_test_split\n",
    "import xgboost as xgb\n",
    "\n",
    "predicted = []\n",
    "expected = []\n",
    "\n",
    "\n",
    "\n",
    "model = xgb.XGBClassifier()\n",
    "x_train, x_test, y_train, y_test = train_test_split(x, y, random_state=42, test_size=0.2)\n",
    "\n",
    "model.fit(x_train, y_train)\n",
    "\n",
    "expected.extend(y_test)\n",
    "predicted.extend(model.predict(x_test))\n",
    "print(metrics.classification_report(expected, predicted))"
   ]
  },
  {
   "cell_type": "code",
   "execution_count": 10,
   "id": "4db27efa-819e-406a-8ef3-03d13bb8ead0",
   "metadata": {
    "tags": []
   },
   "outputs": [
    {
     "name": "stdout",
     "output_type": "stream",
     "text": [
      "[0.88433048 0.92288699 0.87133435 0.69417989 0.70100393 0.76081716\n",
      " 0.81481481 0.90895578 0.5814055  0.75657511]\n",
      "10 folds CV with weighted-F1:  0.7896304003771355\n"
     ]
    }
   ],
   "source": [
    "from sklearn.model_selection import cross_val_score\n",
    "import xgboost as xgb\n",
    "scores = cross_val_score(xgb.XGBClassifier(), \n",
    "                              x, y, \n",
    "                              cv=10, scoring='f1_weighted')\n",
    "print(scores)\n",
    "print('10 folds CV with weighted-F1: ', scores.mean())"
   ]
  },
  {
   "cell_type": "markdown",
   "id": "533383cd-94e7-4217-bb8f-d9eaf5accd58",
   "metadata": {},
   "source": [
    "## 隨機森林"
   ]
  },
  {
   "cell_type": "code",
   "execution_count": 11,
   "id": "d815348c-0b06-45bd-a07e-703692fa969d",
   "metadata": {
    "tags": []
   },
   "outputs": [
    {
     "name": "stdout",
     "output_type": "stream",
     "text": [
      "              precision    recall  f1-score   support\n",
      "\n",
      "         0.0       0.92      0.90      0.91        77\n",
      "         1.0       0.76      0.81      0.78        31\n",
      "\n",
      "    accuracy                           0.87       108\n",
      "   macro avg       0.84      0.85      0.84       108\n",
      "weighted avg       0.87      0.87      0.87       108\n",
      "\n"
     ]
    }
   ],
   "source": [
    "from sklearn.model_selection import train_test_split\n",
    "from sklearn.ensemble import RandomForestClassifier\n",
    "from sklearn import metrics \n",
    "\n",
    "predicted = []\n",
    "expected = []\n",
    "\n",
    "x_train, x_test, y_train, y_test = train_test_split(x, y, random_state=5, test_size=0.2) \n",
    "model = RandomForestClassifier()\n",
    "\n",
    "model.fit(x_train, y_train)\n",
    "\n",
    "expected.extend(y_test)\n",
    "predicted.extend(model.predict(x_test))\n",
    "print(metrics.classification_report(expected, predicted))"
   ]
  },
  {
   "cell_type": "code",
   "execution_count": 12,
   "id": "60ae85d5-9116-4e33-a8d3-58a116cf35f9",
   "metadata": {
    "tags": []
   },
   "outputs": [
    {
     "name": "stdout",
     "output_type": "stream",
     "text": [
      "[0.90235543 0.96229288 0.90809596 0.80190817 0.75313131 0.77777778\n",
      " 0.82909091 0.92592593 0.5952381  0.74022089]\n",
      "10 folds CV with weighted-F1:  0.8196037363861283\n"
     ]
    }
   ],
   "source": [
    "from sklearn.model_selection import cross_val_score\n",
    "from sklearn.ensemble import RandomForestClassifier\n",
    "scores = cross_val_score(RandomForestClassifier(), \n",
    "                              x, y, \n",
    "                              cv=10, scoring='f1_weighted')\n",
    "print(scores)\n",
    "print('10 folds CV with weighted-F1: ', scores.mean())"
   ]
  },
  {
   "cell_type": "markdown",
   "id": "cc3f5fbd-5296-455a-b40c-8572acf56986",
   "metadata": {},
   "source": [
    "## Decision Tree"
   ]
  },
  {
   "cell_type": "code",
   "execution_count": 13,
   "id": "69bee7e2-2fb4-466d-8d5c-d7fab662dfad",
   "metadata": {
    "tags": []
   },
   "outputs": [
    {
     "name": "stdout",
     "output_type": "stream",
     "text": [
      "              precision    recall  f1-score   support\n",
      "\n",
      "         0.0       0.77      0.81      0.79        74\n",
      "         1.0       0.53      0.47      0.50        34\n",
      "\n",
      "    accuracy                           0.70       108\n",
      "   macro avg       0.65      0.64      0.64       108\n",
      "weighted avg       0.69      0.70      0.70       108\n",
      "\n"
     ]
    }
   ],
   "source": [
    "from sklearn.model_selection import train_test_split\n",
    "from sklearn.tree import DecisionTreeClassifier\n",
    "from sklearn import metrics\n",
    "\n",
    "X_train, X_test, y_train, y_test = train_test_split(x, y, test_size=0.2)\n",
    "model = DecisionTreeClassifier()\n",
    "model.fit(X_train, y_train)\n",
    "\n",
    "expected = y_test\n",
    "predicted = model.predict(X_test)\n",
    "print(metrics.classification_report(expected, predicted))"
   ]
  },
  {
   "cell_type": "code",
   "execution_count": 14,
   "id": "dd10afef-db38-4da5-a6d2-74b6a3bc4332",
   "metadata": {
    "tags": []
   },
   "outputs": [
    {
     "name": "stdout",
     "output_type": "stream",
     "text": [
      "[0.74697856 0.72761494 0.78312448 0.60416667 0.63119676 0.62374139\n",
      " 0.74074074 0.72686734 0.60821918 0.82106313]\n",
      "10 folds CV with weighted-F1:  0.7013713170831242\n"
     ]
    }
   ],
   "source": [
    "from sklearn.model_selection import cross_val_score\n",
    "from sklearn.tree import DecisionTreeClassifier\n",
    "scores = cross_val_score(DecisionTreeClassifier(), \n",
    "                              x, y, \n",
    "                              cv=10, scoring='f1_weighted')\n",
    "print(scores)\n",
    "print('10 folds CV with weighted-F1: ', scores.mean())"
   ]
  },
  {
   "cell_type": "markdown",
   "id": "16d77198-654f-48d5-acfa-1f318dd4210f",
   "metadata": {},
   "source": [
    "## NB Classifier"
   ]
  },
  {
   "cell_type": "code",
   "execution_count": 17,
   "id": "26fd3cf5-2613-42d6-96c3-400348eb28c5",
   "metadata": {
    "tags": []
   },
   "outputs": [
    {
     "name": "stdout",
     "output_type": "stream",
     "text": [
      "              precision    recall  f1-score   support\n",
      "\n",
      "         0.0       0.94      0.82      0.88        77\n",
      "         1.0       0.66      0.87      0.75        31\n",
      "\n",
      "    accuracy                           0.83       108\n",
      "   macro avg       0.80      0.84      0.81       108\n",
      "weighted avg       0.86      0.83      0.84       108\n",
      "\n"
     ]
    }
   ],
   "source": [
    "from sklearn.model_selection import train_test_split\n",
    "from sklearn.naive_bayes import MultinomialNB\n",
    "from sklearn import metrics\n",
    "\n",
    "X_train, X_test, y_train, y_test = train_test_split(x, y, test_size=0.2)\n",
    "model = MultinomialNB()\n",
    "model.fit(X_train, y_train)\n",
    "\n",
    "expected = y_test\n",
    "predicted = model.predict(X_test)\n",
    "print(metrics.classification_report(expected, predicted))"
   ]
  },
  {
   "cell_type": "code",
   "execution_count": 18,
   "id": "5acdb24b-ea4d-4a07-a125-44245a6859e5",
   "metadata": {
    "tags": []
   },
   "outputs": [
    {
     "name": "stdout",
     "output_type": "stream",
     "text": [
      "[0.88433048 0.98132435 0.90920498 0.85569986 0.89022556 0.69417989\n",
      " 0.79970271 0.94537347 0.63678715 0.75657511]\n",
      "10 folds CV with weighted-F1:  0.8353403571802565\n"
     ]
    }
   ],
   "source": [
    "from sklearn.model_selection import cross_val_score\n",
    "scores = cross_val_score(MultinomialNB(), \n",
    "                              x, y, \n",
    "                              cv=10, scoring='f1_weighted')\n",
    "print(scores)\n",
    "print('10 folds CV with weighted-F1: ', scores.mean())"
   ]
  },
  {
   "cell_type": "code",
   "execution_count": null,
   "id": "ed6acecf-9ce3-445e-aecc-d69e587ea975",
   "metadata": {},
   "outputs": [],
   "source": []
  }
 ],
 "metadata": {
  "kernelspec": {
   "display_name": "Python 3 (ipykernel)",
   "language": "python",
   "name": "python3"
  },
  "language_info": {
   "codemirror_mode": {
    "name": "ipython",
    "version": 3
   },
   "file_extension": ".py",
   "mimetype": "text/x-python",
   "name": "python",
   "nbconvert_exporter": "python",
   "pygments_lexer": "ipython3",
   "version": "3.11.4"
  }
 },
 "nbformat": 4,
 "nbformat_minor": 5
}
